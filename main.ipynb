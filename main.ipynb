{
 "cells": [
  {
   "cell_type": "code",
   "execution_count": 1,
   "metadata": {},
   "outputs": [],
   "source": [
    "import tensorflow as tf\n",
    "\n",
    "from neuro.nn import activation, layer, losses, models, optimizer\n"
   ]
  },
  {
   "cell_type": "code",
   "execution_count": 2,
   "metadata": {},
   "outputs": [],
   "source": [
    "(x_train, y_train), (x_test, y_test) = tf.keras.datasets.mnist.load_data()\n",
    "x_train = x_train / 255.0\n",
    "x_test = x_test / 255.0\n"
   ]
  },
  {
   "cell_type": "code",
   "execution_count": 3,
   "metadata": {},
   "outputs": [],
   "source": [
    "model = models.Sequential(\n",
    "    layer.Flatten(),\n",
    "    layer.Dense(28*28, 512), activation.LeakyReLU(),\n",
    "    layer.Dropout(0.25),\n",
    "    layer.Dense(512, 128), activation.LeakyReLU(),\n",
    "    layer.Dense(128, 16), activation.LeakyReLU(),\n",
    "    layer.Dense(16, 10), activation.Softmax(),\n",
    ")\n"
   ]
  },
  {
   "cell_type": "code",
   "execution_count": 4,
   "metadata": {},
   "outputs": [],
   "source": [
    "loss = losses.SparseCategoricalCrossentropy()\n",
    "optim = optimizer.Adam()\n"
   ]
  },
  {
   "cell_type": "code",
   "execution_count": 5,
   "metadata": {},
   "outputs": [
    {
     "name": "stdout",
     "output_type": "stream",
     "text": [
      "Epoch: 1, Loss: 2.304018259048462\n",
      "Epoch: 2, Loss: 2.3015072345733643\n",
      "Epoch: 3, Loss: 2.2973036766052246\n",
      "Epoch: 4, Loss: 2.2901761531829834\n",
      "Epoch: 5, Loss: 2.2790720462799072\n",
      "Epoch: 6, Loss: 2.2618954181671143\n",
      "Epoch: 7, Loss: 2.236630439758301\n",
      "Epoch: 8, Loss: 2.2013068199157715\n",
      "Epoch: 9, Loss: 2.1545631885528564\n",
      "Epoch: 10, Loss: 2.0953071117401123\n",
      "Epoch: 11, Loss: 2.0240886211395264\n",
      "Epoch: 12, Loss: 1.9435429573059082\n",
      "Epoch: 13, Loss: 1.8556946516036987\n",
      "Epoch: 14, Loss: 1.7639503479003906\n",
      "Epoch: 15, Loss: 1.674763560295105\n",
      "Epoch: 16, Loss: 1.5846307277679443\n",
      "Epoch: 17, Loss: 1.4937654733657837\n",
      "Epoch: 18, Loss: 1.3940019607543945\n",
      "Epoch: 19, Loss: 1.2937705516815186\n",
      "Epoch: 20, Loss: 1.2182345390319824\n",
      "Epoch: 21, Loss: 1.1497609615325928\n",
      "Epoch: 22, Loss: 1.0799413919448853\n",
      "Epoch: 23, Loss: 1.0191490650177002\n",
      "Epoch: 24, Loss: 0.9698159098625183\n",
      "Epoch: 25, Loss: 0.9288426637649536\n",
      "Epoch: 26, Loss: 0.8893264532089233\n",
      "Epoch: 27, Loss: 0.8532916903495789\n",
      "Epoch: 28, Loss: 0.8222622275352478\n",
      "Epoch: 29, Loss: 0.7935347557067871\n",
      "Epoch: 30, Loss: 0.7563501596450806\n",
      "Epoch: 31, Loss: 0.7214516997337341\n",
      "Epoch: 32, Loss: 0.692717969417572\n",
      "Epoch: 33, Loss: 0.6663663983345032\n",
      "Epoch: 34, Loss: 0.6406769156455994\n",
      "Epoch: 35, Loss: 0.6144790649414062\n",
      "Epoch: 36, Loss: 0.5957245826721191\n",
      "Epoch: 37, Loss: 0.5790591835975647\n",
      "Epoch: 38, Loss: 0.561069905757904\n",
      "Epoch: 39, Loss: 0.5456247329711914\n",
      "Epoch: 40, Loss: 0.5322638750076294\n",
      "Epoch: 41, Loss: 0.5212743282318115\n",
      "Epoch: 42, Loss: 0.5129994750022888\n",
      "Epoch: 43, Loss: 0.5015478134155273\n",
      "Epoch: 44, Loss: 0.4908318817615509\n",
      "Epoch: 45, Loss: 0.4819488823413849\n",
      "Epoch: 46, Loss: 0.47088131308555603\n",
      "Epoch: 47, Loss: 0.46253371238708496\n",
      "Epoch: 48, Loss: 0.4585639238357544\n",
      "Epoch: 49, Loss: 0.45041587948799133\n",
      "Epoch: 50, Loss: 0.4415893852710724\n",
      "Epoch: 51, Loss: 0.435893177986145\n",
      "Epoch: 52, Loss: 0.43004298210144043\n",
      "Epoch: 53, Loss: 0.42374446988105774\n",
      "Epoch: 54, Loss: 0.4166724979877472\n",
      "Epoch: 55, Loss: 0.4106631278991699\n",
      "Epoch: 56, Loss: 0.40762773156166077\n",
      "Epoch: 57, Loss: 0.39842283725738525\n",
      "Epoch: 58, Loss: 0.3965292274951935\n",
      "Epoch: 59, Loss: 0.3940975069999695\n",
      "Epoch: 60, Loss: 0.38709306716918945\n",
      "Epoch: 61, Loss: 0.38621655106544495\n",
      "Epoch: 62, Loss: 0.3786865174770355\n",
      "Epoch: 63, Loss: 0.37741807103157043\n",
      "Epoch: 64, Loss: 0.37315189838409424\n",
      "Epoch: 65, Loss: 0.37028396129608154\n",
      "Epoch: 66, Loss: 0.36698028445243835\n",
      "Epoch: 67, Loss: 0.36367854475975037\n",
      "Epoch: 68, Loss: 0.35838910937309265\n",
      "Epoch: 69, Loss: 0.35650646686553955\n",
      "Epoch: 70, Loss: 0.3567427396774292\n",
      "Epoch: 71, Loss: 0.3501681983470917\n",
      "Epoch: 72, Loss: 0.34850171208381653\n",
      "Epoch: 73, Loss: 0.34632956981658936\n",
      "Epoch: 74, Loss: 0.34273308515548706\n",
      "Epoch: 75, Loss: 0.3437694311141968\n",
      "Epoch: 76, Loss: 0.3384046256542206\n",
      "Epoch: 77, Loss: 0.3354441523551941\n",
      "Epoch: 78, Loss: 0.33421412110328674\n",
      "Epoch: 79, Loss: 0.3326677083969116\n",
      "Epoch: 80, Loss: 0.33087804913520813\n",
      "Epoch: 81, Loss: 0.3285010755062103\n",
      "Epoch: 82, Loss: 0.32570114731788635\n",
      "Epoch: 83, Loss: 0.3219882845878601\n",
      "Epoch: 84, Loss: 0.3241916298866272\n",
      "Epoch: 85, Loss: 0.3190569579601288\n",
      "Epoch: 86, Loss: 0.31979694962501526\n",
      "Epoch: 87, Loss: 0.3184460401535034\n",
      "Epoch: 88, Loss: 0.317834734916687\n",
      "Epoch: 89, Loss: 0.3136531114578247\n",
      "Epoch: 90, Loss: 0.3135492205619812\n",
      "Epoch: 91, Loss: 0.3108869194984436\n",
      "Epoch: 92, Loss: 0.3122203052043915\n",
      "Epoch: 93, Loss: 0.3086996376514435\n",
      "Epoch: 94, Loss: 0.3060113489627838\n",
      "Epoch: 95, Loss: 0.30348730087280273\n",
      "Epoch: 96, Loss: 0.3060007095336914\n",
      "Epoch: 97, Loss: 0.3042030334472656\n",
      "Epoch: 98, Loss: 0.3046252131462097\n",
      "Epoch: 99, Loss: 0.30142906308174133\n",
      "Epoch: 100, Loss: 0.30010849237442017\n"
     ]
    }
   ],
   "source": [
    "epochs = 100\n",
    "for i in range(epochs):\n",
    "    # Forward Propagation\n",
    "    y_pred = model(x_train)\n",
    "\n",
    "    # Calculation of Loss\n",
    "    train_loss = loss(y_pred, y_train)\n",
    "    print(f\"Epoch: {i + 1}, Loss: {train_loss.numpy()}\")\n",
    "\n",
    "    # Back Propagation + Optimizing\n",
    "    optim(model, loss)\n"
   ]
  },
  {
   "cell_type": "code",
   "execution_count": 6,
   "metadata": {},
   "outputs": [
    {
     "name": "stdout",
     "output_type": "stream",
     "text": [
      "Test Accuracy: 93.58999999999999%\n"
     ]
    }
   ],
   "source": [
    "model.trainable = False\n",
    "\n",
    "predictions = model(x_test)\n",
    "predictions = tf.argmax(predictions, axis=1).numpy()\n",
    "\n",
    "acc = sum(predictions == y_test) / len(y_test)\n",
    "print(f\"Test Accuracy: {acc * 100}%\")\n"
   ]
  }
 ],
 "metadata": {
  "interpreter": {
   "hash": "13eb0af71620a846e484681143862ad0a4deab6cadfc353264e5c14897c11035"
  },
  "kernelspec": {
   "display_name": "Python 3.9.9 64-bit",
   "language": "python",
   "name": "python3"
  },
  "language_info": {
   "codemirror_mode": {
    "name": "ipython",
    "version": 3
   },
   "file_extension": ".py",
   "mimetype": "text/x-python",
   "name": "python",
   "nbconvert_exporter": "python",
   "pygments_lexer": "ipython3",
   "version": "3.9.9"
  },
  "orig_nbformat": 4
 },
 "nbformat": 4,
 "nbformat_minor": 2
}
