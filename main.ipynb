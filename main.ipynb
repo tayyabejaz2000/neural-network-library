{
 "cells": [
  {
   "cell_type": "code",
   "execution_count": 1,
   "metadata": {},
   "outputs": [],
   "source": [
    "import tensorflow as tf\n",
    "\n",
    "from neuro.nn import activation, layer, losses, models, optimizer\n"
   ]
  },
  {
   "cell_type": "code",
   "execution_count": 2,
   "metadata": {},
   "outputs": [],
   "source": [
    "(x_train, y_train), (x_test, y_test) = tf.keras.datasets.mnist.load_data()\n",
    "x_train = x_train / 255.0\n",
    "x_test = x_test / 255.0\n"
   ]
  },
  {
   "cell_type": "code",
   "execution_count": 3,
   "metadata": {},
   "outputs": [],
   "source": [
    "model = models.Sequential(\n",
    "    layer.Flatten(),\n",
    "    layer.Dense(28*28, 512), activation.ReLU(),\n",
    "    layer.Dropout(0.25),\n",
    "    layer.Dense(512, 128), activation.ReLU(),\n",
    "    layer.Dense(128, 16), activation.ReLU(),\n",
    "    layer.Dense(16, 10), activation.Softmax(),\n",
    ")\n"
   ]
  },
  {
   "cell_type": "code",
   "execution_count": 4,
   "metadata": {},
   "outputs": [],
   "source": [
    "loss = losses.SparseCategoricalCrossentropy()\n",
    "optim = optimizer.Adam()\n"
   ]
  },
  {
   "cell_type": "code",
   "execution_count": 5,
   "metadata": {},
   "outputs": [
    {
     "name": "stdout",
     "output_type": "stream",
     "text": [
      "Epoch: 1, Loss: 2.3022968769073486\n",
      "Epoch: 2, Loss: 2.301140069961548\n",
      "Epoch: 3, Loss: 2.2984039783477783\n",
      "Epoch: 4, Loss: 2.293511390686035\n",
      "Epoch: 5, Loss: 2.2847554683685303\n",
      "Epoch: 6, Loss: 2.2698094844818115\n",
      "Epoch: 7, Loss: 2.2462878227233887\n",
      "Epoch: 8, Loss: 2.2115955352783203\n",
      "Epoch: 9, Loss: 2.1643996238708496\n",
      "Epoch: 10, Loss: 2.1072444915771484\n",
      "Epoch: 11, Loss: 2.0419647693634033\n",
      "Epoch: 12, Loss: 1.9726184606552124\n",
      "Epoch: 13, Loss: 1.9118213653564453\n",
      "Epoch: 14, Loss: 1.8399704694747925\n",
      "Epoch: 15, Loss: 1.7631713151931763\n",
      "Epoch: 16, Loss: 1.6809478998184204\n",
      "Epoch: 17, Loss: 1.5936442613601685\n",
      "Epoch: 18, Loss: 1.506319522857666\n",
      "Epoch: 19, Loss: 1.4293732643127441\n",
      "Epoch: 20, Loss: 1.3587439060211182\n",
      "Epoch: 21, Loss: 1.2908687591552734\n",
      "Epoch: 22, Loss: 1.2216012477874756\n",
      "Epoch: 23, Loss: 1.154006004333496\n",
      "Epoch: 24, Loss: 1.1074926853179932\n",
      "Epoch: 25, Loss: 1.0626600980758667\n",
      "Epoch: 26, Loss: 1.0110543966293335\n",
      "Epoch: 27, Loss: 0.9673287868499756\n",
      "Epoch: 28, Loss: 0.9324876070022583\n",
      "Epoch: 29, Loss: 0.8875346183776855\n",
      "Epoch: 30, Loss: 0.8567091226577759\n",
      "Epoch: 31, Loss: 0.8288554549217224\n",
      "Epoch: 32, Loss: 0.7932680249214172\n",
      "Epoch: 33, Loss: 0.7726708054542542\n",
      "Epoch: 34, Loss: 0.75677889585495\n",
      "Epoch: 35, Loss: 0.7372404932975769\n",
      "Epoch: 36, Loss: 0.7283791899681091\n",
      "Epoch: 37, Loss: 0.7169627547264099\n",
      "Epoch: 38, Loss: 0.707813024520874\n",
      "Epoch: 39, Loss: 0.6957705020904541\n",
      "Epoch: 40, Loss: 0.6878231167793274\n",
      "Epoch: 41, Loss: 0.6814320087432861\n",
      "Epoch: 42, Loss: 0.6754282116889954\n",
      "Epoch: 43, Loss: 0.6624500751495361\n",
      "Epoch: 44, Loss: 0.646835446357727\n",
      "Epoch: 45, Loss: 0.6365082263946533\n",
      "Epoch: 46, Loss: 0.6271694302558899\n",
      "Epoch: 47, Loss: 0.6218182444572449\n",
      "Epoch: 48, Loss: 0.6100022196769714\n",
      "Epoch: 49, Loss: 0.6000252366065979\n",
      "Epoch: 50, Loss: 0.588170051574707\n",
      "Epoch: 51, Loss: 0.5816051959991455\n",
      "Epoch: 52, Loss: 0.5679369568824768\n",
      "Epoch: 53, Loss: 0.5605862140655518\n",
      "Epoch: 54, Loss: 0.5485191345214844\n",
      "Epoch: 55, Loss: 0.5430527329444885\n",
      "Epoch: 56, Loss: 0.5377875566482544\n",
      "Epoch: 57, Loss: 0.5256413221359253\n",
      "Epoch: 58, Loss: 0.5172731876373291\n",
      "Epoch: 59, Loss: 0.5115196704864502\n",
      "Epoch: 60, Loss: 0.5067571997642517\n",
      "Epoch: 61, Loss: 0.4971006512641907\n",
      "Epoch: 62, Loss: 0.4914851486682892\n",
      "Epoch: 63, Loss: 0.4868268668651581\n",
      "Epoch: 64, Loss: 0.48139524459838867\n",
      "Epoch: 65, Loss: 0.47776535153388977\n",
      "Epoch: 66, Loss: 0.47325363755226135\n",
      "Epoch: 67, Loss: 0.46864888072013855\n",
      "Epoch: 68, Loss: 0.46132832765579224\n",
      "Epoch: 69, Loss: 0.4548572897911072\n",
      "Epoch: 70, Loss: 0.45715293288230896\n",
      "Epoch: 71, Loss: nan\n",
      "Epoch: 72, Loss: 0.4444422423839569\n",
      "Epoch: 73, Loss: 0.4439032971858978\n",
      "Epoch: 74, Loss: 0.43617475032806396\n",
      "Epoch: 75, Loss: 0.43504008650779724\n",
      "Epoch: 76, Loss: nan\n",
      "Epoch: 77, Loss: 0.4265283942222595\n",
      "Epoch: 78, Loss: nan\n",
      "Epoch: 79, Loss: 0.42154309153556824\n",
      "Epoch: 80, Loss: 0.42015156149864197\n",
      "Epoch: 81, Loss: 0.416151762008667\n",
      "Epoch: 82, Loss: 0.41188502311706543\n",
      "Epoch: 83, Loss: 0.41209664940834045\n",
      "Epoch: 84, Loss: nan\n",
      "Epoch: 85, Loss: 0.40240341424942017\n",
      "Epoch: 86, Loss: 0.4024435579776764\n",
      "Epoch: 87, Loss: 0.40122100710868835\n",
      "Epoch: 88, Loss: 0.3976093828678131\n",
      "Epoch: 89, Loss: nan\n",
      "Epoch: 90, Loss: 0.39309725165367126\n",
      "Epoch: 91, Loss: nan\n",
      "Epoch: 92, Loss: 0.3873414099216461\n",
      "Epoch: 93, Loss: 0.38563376665115356\n",
      "Epoch: 94, Loss: nan\n",
      "Epoch: 95, Loss: nan\n",
      "Epoch: 96, Loss: nan\n",
      "Epoch: 97, Loss: 0.3756999969482422\n",
      "Epoch: 98, Loss: nan\n",
      "Epoch: 99, Loss: 0.37346452474594116\n",
      "Epoch: 100, Loss: 0.3708244264125824\n"
     ]
    }
   ],
   "source": [
    "epochs = 100\n",
    "for i in range(epochs):\n",
    "    # Forward Propagation\n",
    "    y_pred = model(x_train)\n",
    "\n",
    "    # Calculation of Loss\n",
    "    train_loss = loss(y_pred, y_train)\n",
    "    print(f\"Epoch: {i + 1}, Loss: {train_loss.numpy()}\")\n",
    "\n",
    "    # Back Propagation + Optimizing\n",
    "    optim(model, loss)\n"
   ]
  },
  {
   "cell_type": "code",
   "execution_count": 6,
   "metadata": {},
   "outputs": [
    {
     "name": "stdout",
     "output_type": "stream",
     "text": [
      "Test Accuracy: 91.75999999999999%\n"
     ]
    }
   ],
   "source": [
    "model.trainable = False\n",
    "\n",
    "predictions = model(x_test)\n",
    "predictions = tf.argmax(predictions, axis=1).numpy()\n",
    "\n",
    "acc = sum(predictions == y_test) / len(y_test)\n",
    "print(f\"Test Accuracy: {acc * 100}%\")\n"
   ]
  }
 ],
 "metadata": {
  "interpreter": {
   "hash": "13eb0af71620a846e484681143862ad0a4deab6cadfc353264e5c14897c11035"
  },
  "kernelspec": {
   "display_name": "Python 3.9.9 64-bit",
   "language": "python",
   "name": "python3"
  },
  "language_info": {
   "codemirror_mode": {
    "name": "ipython",
    "version": 3
   },
   "file_extension": ".py",
   "mimetype": "text/x-python",
   "name": "python",
   "nbconvert_exporter": "python",
   "pygments_lexer": "ipython3",
   "version": "3.9.9"
  },
  "orig_nbformat": 4
 },
 "nbformat": 4,
 "nbformat_minor": 2
}
