{
 "cells": [
  {
   "cell_type": "code",
   "execution_count": 1,
   "metadata": {},
   "outputs": [],
   "source": [
    "import tensorflow as tf\n",
    "\n",
    "from neuro.nn import activation, layer, losses, models, optimizer\n"
   ]
  },
  {
   "cell_type": "code",
   "execution_count": 2,
   "metadata": {},
   "outputs": [],
   "source": [
    "(x_train, y_train), (x_test, y_test) = tf.keras.datasets.mnist.load_data()\n",
    "x_train = x_train / 255.0\n",
    "x_test = x_test / 255.0\n",
    "\n",
    "y_train = tf.one_hot(y_train, 10)"
   ]
  },
  {
   "cell_type": "code",
   "execution_count": 3,
   "metadata": {},
   "outputs": [],
   "source": [
    "model = models.Sequential(\n",
    "    layer.Flatten(),\n",
    "    layer.Dense(28*28, 512), activation.ReLU(),\n",
    "    layer.Dropout(0.25),\n",
    "    layer.Dense(512, 128), activation.ReLU(),\n",
    "    layer.Dense(128, 16), activation.ReLU(),\n",
    "    layer.Dense(16, 10), activation.StableSoftmax(),\n",
    ")\n"
   ]
  },
  {
   "cell_type": "code",
   "execution_count": 4,
   "metadata": {},
   "outputs": [],
   "source": [
    "loss = losses.CategoricalCrossentropy()\n",
    "optim = optimizer.Adam()\n"
   ]
  },
  {
   "cell_type": "code",
   "execution_count": 5,
   "metadata": {},
   "outputs": [
    {
     "name": "stdout",
     "output_type": "stream",
     "text": [
      "Epoch: 1, Loss: 2.302288770675659\n",
      "Epoch: 2, Loss: 2.3001456260681152\n",
      "Epoch: 3, Loss: 2.2966978549957275\n",
      "Epoch: 4, Loss: 2.290881395339966\n",
      "Epoch: 5, Loss: 2.2811803817749023\n",
      "Epoch: 6, Loss: 2.2654495239257812\n",
      "Epoch: 7, Loss: 2.2421159744262695\n",
      "Epoch: 8, Loss: 2.2083616256713867\n",
      "Epoch: 9, Loss: 2.1612305641174316\n",
      "Epoch: 10, Loss: 2.0998427867889404\n",
      "Epoch: 11, Loss: 2.0252325534820557\n",
      "Epoch: 12, Loss: 1.938755750656128\n",
      "Epoch: 13, Loss: 1.8438398838043213\n",
      "Epoch: 14, Loss: 1.7441458702087402\n",
      "Epoch: 15, Loss: 1.6383346319198608\n",
      "Epoch: 16, Loss: 1.5295225381851196\n",
      "Epoch: 17, Loss: 1.4193378686904907\n",
      "Epoch: 18, Loss: 1.3038674592971802\n",
      "Epoch: 19, Loss: 1.2033330202102661\n",
      "Epoch: 20, Loss: 1.115446925163269\n",
      "Epoch: 21, Loss: 1.037292242050171\n",
      "Epoch: 22, Loss: 0.9618557095527649\n",
      "Epoch: 23, Loss: 0.8948253393173218\n",
      "Epoch: 24, Loss: 0.8426576852798462\n",
      "Epoch: 25, Loss: 0.8037654757499695\n",
      "Epoch: 26, Loss: 0.7706952095031738\n",
      "Epoch: 27, Loss: 0.7324863076210022\n",
      "Epoch: 28, Loss: 0.7047907710075378\n",
      "Epoch: 29, Loss: 0.6804543733596802\n",
      "Epoch: 30, Loss: 0.6611847877502441\n",
      "Epoch: 31, Loss: 0.6426898837089539\n",
      "Epoch: 32, Loss: 0.6249368786811829\n",
      "Epoch: 33, Loss: 0.6081966161727905\n",
      "Epoch: 34, Loss: 0.597987949848175\n",
      "Epoch: 35, Loss: 0.5861462354660034\n",
      "Epoch: 36, Loss: 0.5770257115364075\n",
      "Epoch: 37, Loss: 0.5669817924499512\n",
      "Epoch: 38, Loss: 0.5630924701690674\n",
      "Epoch: 39, Loss: 0.5545184016227722\n",
      "Epoch: 40, Loss: 0.5468214154243469\n",
      "Epoch: 41, Loss: 0.5414968729019165\n",
      "Epoch: 42, Loss: 0.5331611037254333\n",
      "Epoch: 43, Loss: 0.5292452573776245\n",
      "Epoch: 44, Loss: 0.5239146947860718\n",
      "Epoch: 45, Loss: 0.5178553462028503\n",
      "Epoch: 46, Loss: 0.5099954605102539\n",
      "Epoch: 47, Loss: 0.5046736598014832\n",
      "Epoch: 48, Loss: 0.502342939376831\n",
      "Epoch: 49, Loss: 0.49742886424064636\n",
      "Epoch: 50, Loss: 0.4935060739517212\n",
      "Epoch: 51, Loss: 0.48577702045440674\n",
      "Epoch: 52, Loss: 0.4810377061367035\n",
      "Epoch: 53, Loss: 0.4750579297542572\n",
      "Epoch: 54, Loss: 0.4725688099861145\n",
      "Epoch: 55, Loss: 0.4695921838283539\n",
      "Epoch: 56, Loss: 0.46469569206237793\n",
      "Epoch: 57, Loss: 0.45865944027900696\n",
      "Epoch: 58, Loss: 0.4568626284599304\n",
      "Epoch: 59, Loss: 0.4514743387699127\n",
      "Epoch: 60, Loss: 0.4491910934448242\n",
      "Epoch: 61, Loss: 0.4469601511955261\n",
      "Epoch: 62, Loss: 0.44083157181739807\n",
      "Epoch: 63, Loss: 0.4342682659626007\n",
      "Epoch: 64, Loss: 0.43223437666893005\n",
      "Epoch: 65, Loss: 0.4264453053474426\n",
      "Epoch: 66, Loss: 0.4244447648525238\n",
      "Epoch: 67, Loss: 0.420634388923645\n",
      "Epoch: 68, Loss: 0.41674330830574036\n",
      "Epoch: 69, Loss: 0.4144010841846466\n",
      "Epoch: 70, Loss: 0.4099411964416504\n",
      "Epoch: 71, Loss: 0.4078619182109833\n",
      "Epoch: 72, Loss: 0.40693432092666626\n",
      "Epoch: 73, Loss: 0.4025784432888031\n",
      "Epoch: 74, Loss: 0.3969632089138031\n",
      "Epoch: 75, Loss: 0.3958370089530945\n",
      "Epoch: 76, Loss: 0.39122721552848816\n",
      "Epoch: 77, Loss: 0.39001601934432983\n",
      "Epoch: 78, Loss: 0.38636690378189087\n",
      "Epoch: 79, Loss: 0.3837873637676239\n",
      "Epoch: 80, Loss: 0.3828045427799225\n",
      "Epoch: 81, Loss: 0.3796806037425995\n",
      "Epoch: 82, Loss: 0.3767393231391907\n",
      "Epoch: 83, Loss: 0.3747707009315491\n",
      "Epoch: 84, Loss: 0.3701321482658386\n",
      "Epoch: 85, Loss: 0.3711789846420288\n",
      "Epoch: 86, Loss: 0.36902686953544617\n",
      "Epoch: 87, Loss: 0.3632167875766754\n",
      "Epoch: 88, Loss: 0.36165764927864075\n",
      "Epoch: 89, Loss: 0.3603951632976532\n",
      "Epoch: 90, Loss: 0.3571622967720032\n",
      "Epoch: 91, Loss: 0.3570631146430969\n",
      "Epoch: 92, Loss: 0.34963497519493103\n",
      "Epoch: 93, Loss: 0.3490470051765442\n",
      "Epoch: 94, Loss: 0.3501739501953125\n",
      "Epoch: 95, Loss: 0.34749269485473633\n",
      "Epoch: 96, Loss: 0.34370157122612\n",
      "Epoch: 97, Loss: 0.34048229455947876\n",
      "Epoch: 98, Loss: 0.33975544571876526\n",
      "Epoch: 99, Loss: 0.3396802842617035\n",
      "Epoch: 100, Loss: 0.3363167941570282\n"
     ]
    }
   ],
   "source": [
    "epochs = 100\n",
    "for i in range(epochs):\n",
    "    # Forward Propagation\n",
    "    y_pred = model(x_train)\n",
    "\n",
    "    # Calculation of Loss\n",
    "    train_loss = loss(y_pred, y_train)\n",
    "    print(f\"Epoch: {i + 1}, Loss: {train_loss.numpy()}\")\n",
    "\n",
    "    # Back Propagation + Optimizing\n",
    "    optim(model, loss)\n"
   ]
  },
  {
   "cell_type": "code",
   "execution_count": 6,
   "metadata": {},
   "outputs": [
    {
     "name": "stdout",
     "output_type": "stream",
     "text": [
      "Test Accuracy: 92.80000000000001%\n"
     ]
    }
   ],
   "source": [
    "model.trainable = False\n",
    "\n",
    "predictions = model(x_test)\n",
    "predictions = tf.argmax(predictions, axis=1).numpy()\n",
    "\n",
    "acc = sum(predictions == y_test) / len(y_test)\n",
    "print(f\"Test Accuracy: {acc * 100}%\")\n"
   ]
  }
 ],
 "metadata": {
  "interpreter": {
   "hash": "13eb0af71620a846e484681143862ad0a4deab6cadfc353264e5c14897c11035"
  },
  "kernelspec": {
   "display_name": "Python 3.9.9 64-bit",
   "language": "python",
   "name": "python3"
  },
  "language_info": {
   "codemirror_mode": {
    "name": "ipython",
    "version": 3
   },
   "file_extension": ".py",
   "mimetype": "text/x-python",
   "name": "python",
   "nbconvert_exporter": "python",
   "pygments_lexer": "ipython3",
   "version": "3.9.9"
  },
  "orig_nbformat": 4
 },
 "nbformat": 4,
 "nbformat_minor": 2
}
